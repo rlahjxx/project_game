{
 "cells": [
  {
   "cell_type": "markdown",
   "id": "05e8b065",
   "metadata": {},
   "source": [
    "# Q-Learning"
   ]
  },
  {
   "cell_type": "code",
   "execution_count": 1,
   "id": "c9a10bc5",
   "metadata": {},
   "outputs": [
    {
     "ename": "TclError",
     "evalue": "invalid command name \".!canvas\"",
     "output_type": "error",
     "traceback": [
      "\u001b[1;31m---------------------------------------------------------------------------\u001b[0m",
      "\u001b[1;31mTclError\u001b[0m                                  Traceback (most recent call last)",
      "Cell \u001b[1;32mIn [1], line 55\u001b[0m\n\u001b[0;32m     53\u001b[0m action \u001b[38;5;241m=\u001b[39m agent\u001b[38;5;241m.\u001b[39mget_action(state)\n\u001b[0;32m     54\u001b[0m \u001b[38;5;66;03m# 행동을 취한 후 다음 상태, 보상 에피소드의 종료여부를 받아옴\u001b[39;00m\n\u001b[1;32m---> 55\u001b[0m next_state, reward, done \u001b[38;5;241m=\u001b[39m \u001b[43menv\u001b[49m\u001b[38;5;241;43m.\u001b[39;49m\u001b[43mstep\u001b[49m\u001b[43m(\u001b[49m\u001b[43maction\u001b[49m\u001b[43m)\u001b[49m\n\u001b[0;32m     56\u001b[0m \u001b[38;5;66;03m# <s,a,r,s'>로 큐함수를 업데이트\u001b[39;00m\n\u001b[0;32m     57\u001b[0m agent\u001b[38;5;241m.\u001b[39mlearn(state, action, reward, next_state)\n",
      "File \u001b[1;32m~\\final_game\\game_test\\environment3.py:121\u001b[0m, in \u001b[0;36mEnv.step\u001b[1;34m(self, action)\u001b[0m\n\u001b[0;32m    118\u001b[0m         base_action[\u001b[38;5;241m0\u001b[39m] \u001b[38;5;241m+\u001b[39m\u001b[38;5;241m=\u001b[39m UNIT\n\u001b[0;32m    120\u001b[0m \u001b[38;5;66;03m# 에이전트 이동\u001b[39;00m\n\u001b[1;32m--> 121\u001b[0m \u001b[38;5;28;43mself\u001b[39;49m\u001b[38;5;241;43m.\u001b[39;49m\u001b[43mcanvas\u001b[49m\u001b[38;5;241;43m.\u001b[39;49m\u001b[43mmove\u001b[49m\u001b[43m(\u001b[49m\u001b[38;5;28;43mself\u001b[39;49m\u001b[38;5;241;43m.\u001b[39;49m\u001b[43mrectangle\u001b[49m\u001b[43m,\u001b[49m\u001b[43m \u001b[49m\u001b[43mbase_action\u001b[49m\u001b[43m[\u001b[49m\u001b[38;5;241;43m0\u001b[39;49m\u001b[43m]\u001b[49m\u001b[43m,\u001b[49m\u001b[43m \u001b[49m\u001b[43mbase_action\u001b[49m\u001b[43m[\u001b[49m\u001b[38;5;241;43m1\u001b[39;49m\u001b[43m]\u001b[49m\u001b[43m)\u001b[49m\n\u001b[0;32m    122\u001b[0m \u001b[38;5;66;03m# 에이전트(빨간 네모)를 가장 상위로 배치\u001b[39;00m\n\u001b[0;32m    123\u001b[0m \u001b[38;5;28mself\u001b[39m\u001b[38;5;241m.\u001b[39mcanvas\u001b[38;5;241m.\u001b[39mtag_raise(\u001b[38;5;28mself\u001b[39m\u001b[38;5;241m.\u001b[39mrectangle)\n",
      "File \u001b[1;32mC:\\ProgramData\\Anaconda3\\envs\\final_project\\lib\\tkinter\\__init__.py:2915\u001b[0m, in \u001b[0;36mCanvas.move\u001b[1;34m(self, *args)\u001b[0m\n\u001b[0;32m   2913\u001b[0m \u001b[38;5;28;01mdef\u001b[39;00m \u001b[38;5;21mmove\u001b[39m(\u001b[38;5;28mself\u001b[39m, \u001b[38;5;241m*\u001b[39margs):\n\u001b[0;32m   2914\u001b[0m     \u001b[38;5;124;03m\"\"\"Move an item TAGORID given in ARGS.\"\"\"\u001b[39;00m\n\u001b[1;32m-> 2915\u001b[0m     \u001b[38;5;28;43mself\u001b[39;49m\u001b[38;5;241;43m.\u001b[39;49m\u001b[43mtk\u001b[49m\u001b[38;5;241;43m.\u001b[39;49m\u001b[43mcall\u001b[49m\u001b[43m(\u001b[49m\u001b[43m(\u001b[49m\u001b[38;5;28;43mself\u001b[39;49m\u001b[38;5;241;43m.\u001b[39;49m\u001b[43m_w\u001b[49m\u001b[43m,\u001b[49m\u001b[43m \u001b[49m\u001b[38;5;124;43m'\u001b[39;49m\u001b[38;5;124;43mmove\u001b[39;49m\u001b[38;5;124;43m'\u001b[39;49m\u001b[43m)\u001b[49m\u001b[43m \u001b[49m\u001b[38;5;241;43m+\u001b[39;49m\u001b[43m \u001b[49m\u001b[43margs\u001b[49m\u001b[43m)\u001b[49m\n",
      "\u001b[1;31mTclError\u001b[0m: invalid command name \".!canvas\""
     ]
    }
   ],
   "source": [
    "import numpy as np\n",
    "import random\n",
    "from environ import Env\n",
    "from collections import defaultdict\n",
    "\n",
    "class QLearningAgent:\n",
    "    def __init__(self, actions):\n",
    "        self.actions = actions\n",
    "        self.step_size = 0.01\n",
    "        self.discount_factor = 0.9\n",
    "        self.epsilon = 0.1\n",
    "        self.q_table = defaultdict(lambda: [0.0, 0.0, 0.0, 0.0])\n",
    "\n",
    "    # <s, a, r, s'> 샘플로부터 큐함수 업데이트\n",
    "    def learn(self, state, action, reward, next_state):\n",
    "        state, next_state = str(state), str(next_state)\n",
    "        q_1 = self.q_table[state][action]\n",
    "        # 벨만 최적 방정식을 사용한 큐함수의 업데이트\n",
    "        q_2 = reward + self.discount_factor * max(self.q_table[next_state])\n",
    "        self.q_table[state][action] += self.step_size * (q_2 - q_1)\n",
    "\n",
    "    # 큐함수에 의거하여 입실론 탐욕 정책에 따라서 행동을 반환\n",
    "    def get_action(self, state):\n",
    "        if np.random.rand() < self.epsilon:\n",
    "            # 무작위 행동 반환\n",
    "            action = np.random.choice(self.actions)\n",
    "        else:\n",
    "            # 큐함수에 따른 행동 반환\n",
    "            state = str(state)\n",
    "            q_list = self.q_table[state]\n",
    "            action = arg_max(q_list)\n",
    "        return action\n",
    "\n",
    "\n",
    "# 큐함수의 값에 따라 최적의 행동을 반환\n",
    "def arg_max(q_list):\n",
    "    max_idx_list = np.argwhere(q_list == np.amax(q_list))\n",
    "    max_idx_list = max_idx_list.flatten().tolist()\n",
    "    return random.choice(max_idx_list)\n",
    "\n",
    "\n",
    "if __name__ == \"__main__\":\n",
    "    env = Env()\n",
    "    agent = QLearningAgent(actions=list(range(env.n_actions)))\n",
    "\n",
    "    for episode in range(1000):\n",
    "        state = env.reset()\n",
    "\n",
    "        while True:\n",
    "            # 게임 환경과 상태를 초기화\n",
    "            env.render()\n",
    "            # 현재 상태에 대한 행동 선택\n",
    "            action = agent.get_action(state)\n",
    "            # 행동을 취한 후 다음 상태, 보상 에피소드의 종료여부를 받아옴\n",
    "            next_state, reward, done = env.step(action)\n",
    "            # <s,a,r,s'>로 큐함수를 업데이트\n",
    "            agent.learn(state, action, reward, next_state)\n",
    "\n",
    "            state = next_state\n",
    "            \n",
    "            # 모든 큐함수를 화면에 표시\n",
    "            env.print_value_all(agent.q_table)\n",
    "\n",
    "            if done:\n",
    "                break"
   ]
  },
  {
   "cell_type": "code",
   "execution_count": null,
   "id": "143992c1",
   "metadata": {},
   "outputs": [],
   "source": [
    "import numpy as np\n",
    "test = np.array([[1,2,3,4,5], [6,7,8,9,10], [5,7,2,4,8]])\n",
    "t = test.shape\n",
    "for i in range(1, t[0] - 1) :\n",
    "    for j in range(1, t[1] - 1) :\n",
    "        print(i,j)"
   ]
  },
  {
   "cell_type": "code",
   "execution_count": null,
   "id": "de16dc5b",
   "metadata": {},
   "outputs": [],
   "source": []
  }
 ],
 "metadata": {
  "kernelspec": {
   "display_name": "Python 3 (ipykernel)",
   "language": "python",
   "name": "python3"
  },
  "language_info": {
   "codemirror_mode": {
    "name": "ipython",
    "version": 3
   },
   "file_extension": ".py",
   "mimetype": "text/x-python",
   "name": "python",
   "nbconvert_exporter": "python",
   "pygments_lexer": "ipython3",
   "version": "3.8.5"
  },
  "vscode": {
   "interpreter": {
    "hash": "fcfe8e15f855fa6fe881b4492e9d286473226a528417d1fd9fa4560be42f50aa"
   }
  }
 },
 "nbformat": 4,
 "nbformat_minor": 5
}
